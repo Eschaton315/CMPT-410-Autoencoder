{
 "cells": [
  {
   "cell_type": "markdown",
   "metadata": {
    "id": "35Tv2peftFL7"
   },
   "source": [
    "This notebook uses [PyTorch](https://pytorch.org/), which is a library that can automatically differentiate functions and is commonly used to implement neural networks. Because of its capability to automatically differentiate functions, the formula for the gradient does not need to be manually derived -- this comes especially handy when working with neural networks, whose gradient formula can be quite complicated, especially for complex architectures. "
   ]
  },
  {
   "cell_type": "markdown",
   "metadata": {
    "id": "inyJ_O0zvGjG"
   },
   "source": [
    "We recommend going over the [PyTorch tutorial](https://pytorch.org/tutorials/beginner/basics/intro.html) and then the starter code below. For any new functions that you come across, you can look up the documentation [here](https://pytorch.org/docs/stable/index.html). "
   ]
  },
  {
   "cell_type": "markdown",
   "metadata": {
    "id": "yIzZYEqUwQKw"
   },
   "source": [
    "We recommend running this notebook on Google Colab to avoid having to install PyTorch and to take advantage of GPUs, which make training faster."
   ]
  },
  {
   "cell_type": "markdown",
   "metadata": {
    "id": "pyJgJ5DNERo5"
   },
   "source": [
    "## Load packages"
   ]
  },
  {
   "cell_type": "code",
   "execution_count": null,
   "metadata": {
    "ExecuteTime": {
     "end_time": "2021-03-11T21:12:35.634207Z",
     "start_time": "2021-03-11T21:12:34.239216Z"
    },
    "id": "mQ0w94zPtMvw"
   },
   "outputs": [],
   "source": [
    "# load packages\n",
    "# make sure to install the pacakge \"tqdm\" for the progress bar when training.\n",
    "import torch\n",
    "import torchvision\n",
    "import torchvision.transforms as transforms\n",
    "import torch.nn as nn\n",
    "import torch.nn.functional as F\n",
    "from torch.autograd import Variable\n",
    "from torchvision.utils import save_image\n",
    "from tqdm import tqdm\n",
    "import numpy as np\n",
    "import matplotlib.pyplot as plt\n",
    "import imageio\n",
    "import matplotlib.image as mpimg\n",
    "from scipy import ndimage\n",
    "\n",
    "path_prefix = \"\""
   ]
  },
  {
   "cell_type": "markdown",
   "metadata": {
    "id": "E9NjnIpIa5nz"
   },
   "source": [
    "If running on Google Colab, you need to upload the file `autoencoder_starter.py`. To do so, you need to click on the folder icon on the left side of the page, which brings up a panel that would allow you to upload files. Note however uploading the file this way has a downside in that if your Python runtime times out or is otherwise restarted, the file will be erased and you will need to re-upload. \n",
    "\n",
    "If you would like to avoid this, you can create a directory named `CMPT 726-419 Spring 2021 A2` in your Google Drive and upload `autoencoder_starter.py` to that directory. Then execute the following block of code to mount your Google Drive. "
   ]
  },
  {
   "cell_type": "code",
   "execution_count": null,
   "metadata": {
    "id": "VD9n2s211Rii"
   },
   "outputs": [],
   "source": [
    "from google.colab import drive\n",
    "drive.mount('/content/gdrive')\n",
    "path_prefix = \"/content/gdrive/MyDrive/CMPT 726-419 Spring 2021 A2\"\n",
    "\n",
    "import sys\n",
    "sys.path.insert(1, path_prefix)"
   ]
  },
  {
   "cell_type": "markdown",
   "metadata": {
    "id": "SM0qdo6PEW1d"
   },
   "source": [
    "## Define your architecture here.\n",
    "\n",
    "The `Autoencoder` class has several important functions unimplemented. You are required to implement the two sub-classes of `Encoder` and `Decoder`, i.e, the architecture and forward function of the encoder and decoder.\n"
   ]
  },
  {
   "cell_type": "code",
   "execution_count": 6,
   "metadata": {
    "ExecuteTime": {
     "end_time": "2021-03-11T21:12:35.656496Z",
     "start_time": "2021-03-11T21:12:35.637352Z"
    },
    "id": "23IwboWcDwBA"
   },
   "outputs": [],
   "source": [
    "class Autoencoder(nn.Module):\n",
    "\n",
    "    def __init__(self,dim_latent_representation=2):\n",
    "\n",
    "        super(Autoencoder,self).__init__()\n",
    "\n",
    "        class Encoder(nn.Module):\n",
    "            def __init__(self, output_size=2):\n",
    "                super(Encoder, self).__init__()\n",
    "                # needs your implementation\n",
    "                nn.Linear(784,output_size)\n",
    "              \n",
    "                pass\n",
    "\n",
    "            def forward(self, x):\n",
    "                # needs your implementation\n",
    "                z = F.relu(self.encoder(x))\n",
    "                pass\n",
    "\n",
    "        class Decoder(nn.Module):\n",
    "            def __init__(self, input_size=2):\n",
    "                super(Decoder, self).__init__()\n",
    "                # needs your implementation\n",
    "                nn.Linear(input_size, 784)\n",
    "                pass\n",
    "\n",
    "            def forward(self, z):\n",
    "                # needs your implementation\n",
    "                z = torch.sigmoid(self.decoder(z))\n",
    "                pass\n",
    "\n",
    "        self.encoder = Encoder(output_size=dim_latent_representation)\n",
    "        self.decoder = Decoder(input_size=dim_latent_representation)\n",
    "\n",
    "    def forward(self,x):\n",
    "        x = self.encoder(x)\n",
    "        x = self.decoder(x)\n",
    "        return x"
   ]
  },
  {
   "cell_type": "code",
   "execution_count": 9,
   "metadata": {},
   "outputs": [
    {
     "name": "stdout",
     "output_type": "stream",
     "text": [
      "this \n"
     ]
    }
   ],
   "source": []
  },
  {
   "cell_type": "markdown",
   "metadata": {
    "id": "kfMcq9AHEabL"
   },
   "source": [
    "## Training the Model\n",
    "\n",
    "The training loop is provided by the `Autoencoder_Trainer` class from `autoencoder_starter.py`."
   ]
  },
  {
   "cell_type": "code",
   "execution_count": 7,
   "metadata": {
    "ExecuteTime": {
     "end_time": "2021-03-11T21:12:46.685307Z",
     "start_time": "2021-03-11T21:12:35.661256Z"
    },
    "id": "SqcNfjOTDz2j"
   },
   "outputs": [
    {
     "ename": "ValueError",
     "evalue": "optimizer got an empty parameter list",
     "output_type": "error",
     "traceback": [
      "\u001b[1;31m---------------------------------------------------------------------------\u001b[0m",
      "\u001b[1;31mValueError\u001b[0m                                Traceback (most recent call last)",
      "\u001b[1;32m~\\AppData\\Local\\Temp\\ipykernel_11612\\2644875653.py\u001b[0m in \u001b[0;36m<module>\u001b[1;34m\u001b[0m\n\u001b[0;32m      5\u001b[0m \u001b[1;33m\u001b[0m\u001b[0m\n\u001b[0;32m      6\u001b[0m \u001b[0mautoencoder\u001b[0m \u001b[1;33m=\u001b[0m \u001b[0mAutoencoder\u001b[0m\u001b[1;33m(\u001b[0m\u001b[0mdim_latent_representation\u001b[0m\u001b[1;33m=\u001b[0m\u001b[1;36m2\u001b[0m\u001b[1;33m)\u001b[0m\u001b[1;33m\u001b[0m\u001b[1;33m\u001b[0m\u001b[0m\n\u001b[1;32m----> 7\u001b[1;33m \u001b[0mtrainer\u001b[0m \u001b[1;33m=\u001b[0m \u001b[0mAutoencoder_Trainer\u001b[0m\u001b[1;33m(\u001b[0m\u001b[0mautoencoder_model\u001b[0m\u001b[1;33m=\u001b[0m\u001b[0mautoencoder\u001b[0m\u001b[1;33m,\u001b[0m\u001b[0mlearning_rate\u001b[0m\u001b[1;33m=\u001b[0m\u001b[0mLEARNING_RATE\u001b[0m\u001b[1;33m,\u001b[0m\u001b[0mpath_prefix\u001b[0m\u001b[1;33m=\u001b[0m\u001b[0mpath_prefix\u001b[0m\u001b[1;33m)\u001b[0m\u001b[1;33m\u001b[0m\u001b[1;33m\u001b[0m\u001b[0m\n\u001b[0m\u001b[0;32m      8\u001b[0m \u001b[1;33m\u001b[0m\u001b[0m\n\u001b[0;32m      9\u001b[0m \u001b[1;32mtry\u001b[0m\u001b[1;33m:\u001b[0m\u001b[1;33m\u001b[0m\u001b[1;33m\u001b[0m\u001b[0m\n",
      "\u001b[1;32m~\\OneDrive\\Spr 2023\\A2\\CMPT 726-419 Spring 2021 A2 starter code\\CMPT 726-419 Spring 2021 A2\\autoencoder_starter.py\u001b[0m in \u001b[0;36m__init__\u001b[1;34m(self, autoencoder_model, learning_rate, path_prefix)\u001b[0m\n\u001b[0;32m     58\u001b[0m         \u001b[0mself\u001b[0m\u001b[1;33m.\u001b[0m\u001b[0mmodel\u001b[0m \u001b[1;33m=\u001b[0m \u001b[0mautoencoder_model\u001b[0m\u001b[1;33m\u001b[0m\u001b[1;33m\u001b[0m\u001b[0m\n\u001b[0;32m     59\u001b[0m         \u001b[0mself\u001b[0m\u001b[1;33m.\u001b[0m\u001b[0mmodel\u001b[0m\u001b[1;33m.\u001b[0m\u001b[0mto\u001b[0m\u001b[1;33m(\u001b[0m\u001b[0mself\u001b[0m\u001b[1;33m.\u001b[0m\u001b[0mdevice\u001b[0m\u001b[1;33m)\u001b[0m\u001b[1;33m\u001b[0m\u001b[1;33m\u001b[0m\u001b[0m\n\u001b[1;32m---> 60\u001b[1;33m         \u001b[0mself\u001b[0m\u001b[1;33m.\u001b[0m\u001b[0moptimizer\u001b[0m \u001b[1;33m=\u001b[0m \u001b[0mtorch\u001b[0m\u001b[1;33m.\u001b[0m\u001b[0moptim\u001b[0m\u001b[1;33m.\u001b[0m\u001b[0mAdam\u001b[0m\u001b[1;33m(\u001b[0m\u001b[0mself\u001b[0m\u001b[1;33m.\u001b[0m\u001b[0mmodel\u001b[0m\u001b[1;33m.\u001b[0m\u001b[0mparameters\u001b[0m\u001b[1;33m(\u001b[0m\u001b[1;33m)\u001b[0m\u001b[1;33m,\u001b[0m \u001b[0mlr\u001b[0m\u001b[1;33m=\u001b[0m\u001b[0mlearning_rate\u001b[0m\u001b[1;33m,\u001b[0m \u001b[0mweight_decay\u001b[0m\u001b[1;33m=\u001b[0m\u001b[1;36m1e-5\u001b[0m\u001b[1;33m)\u001b[0m\u001b[1;33m\u001b[0m\u001b[1;33m\u001b[0m\u001b[0m\n\u001b[0m\u001b[0;32m     61\u001b[0m \u001b[1;33m\u001b[0m\u001b[0m\n\u001b[0;32m     62\u001b[0m \u001b[1;33m\u001b[0m\u001b[0m\n",
      "\u001b[1;32m~\\anaconda3\\lib\\site-packages\\torch\\optim\\adam.py\u001b[0m in \u001b[0;36m__init__\u001b[1;34m(self, params, lr, betas, eps, weight_decay, amsgrad, foreach, maximize, capturable, differentiable, fused)\u001b[0m\n\u001b[0;32m     31\u001b[0m                         \u001b[0mmaximize\u001b[0m\u001b[1;33m=\u001b[0m\u001b[0mmaximize\u001b[0m\u001b[1;33m,\u001b[0m \u001b[0mforeach\u001b[0m\u001b[1;33m=\u001b[0m\u001b[0mforeach\u001b[0m\u001b[1;33m,\u001b[0m \u001b[0mcapturable\u001b[0m\u001b[1;33m=\u001b[0m\u001b[0mcapturable\u001b[0m\u001b[1;33m,\u001b[0m\u001b[1;33m\u001b[0m\u001b[1;33m\u001b[0m\u001b[0m\n\u001b[0;32m     32\u001b[0m                         differentiable=differentiable, fused=fused)\n\u001b[1;32m---> 33\u001b[1;33m         \u001b[0msuper\u001b[0m\u001b[1;33m(\u001b[0m\u001b[1;33m)\u001b[0m\u001b[1;33m.\u001b[0m\u001b[0m__init__\u001b[0m\u001b[1;33m(\u001b[0m\u001b[0mparams\u001b[0m\u001b[1;33m,\u001b[0m \u001b[0mdefaults\u001b[0m\u001b[1;33m)\u001b[0m\u001b[1;33m\u001b[0m\u001b[1;33m\u001b[0m\u001b[0m\n\u001b[0m\u001b[0;32m     34\u001b[0m \u001b[1;33m\u001b[0m\u001b[0m\n\u001b[0;32m     35\u001b[0m         \u001b[1;32mif\u001b[0m \u001b[0mfused\u001b[0m\u001b[1;33m:\u001b[0m\u001b[1;33m\u001b[0m\u001b[1;33m\u001b[0m\u001b[0m\n",
      "\u001b[1;32m~\\anaconda3\\lib\\site-packages\\torch\\optim\\optimizer.py\u001b[0m in \u001b[0;36m__init__\u001b[1;34m(self, params, defaults)\u001b[0m\n\u001b[0;32m    185\u001b[0m         \u001b[0mparam_groups\u001b[0m \u001b[1;33m=\u001b[0m \u001b[0mlist\u001b[0m\u001b[1;33m(\u001b[0m\u001b[0mparams\u001b[0m\u001b[1;33m)\u001b[0m\u001b[1;33m\u001b[0m\u001b[1;33m\u001b[0m\u001b[0m\n\u001b[0;32m    186\u001b[0m         \u001b[1;32mif\u001b[0m \u001b[0mlen\u001b[0m\u001b[1;33m(\u001b[0m\u001b[0mparam_groups\u001b[0m\u001b[1;33m)\u001b[0m \u001b[1;33m==\u001b[0m \u001b[1;36m0\u001b[0m\u001b[1;33m:\u001b[0m\u001b[1;33m\u001b[0m\u001b[1;33m\u001b[0m\u001b[0m\n\u001b[1;32m--> 187\u001b[1;33m             \u001b[1;32mraise\u001b[0m \u001b[0mValueError\u001b[0m\u001b[1;33m(\u001b[0m\u001b[1;34m\"optimizer got an empty parameter list\"\u001b[0m\u001b[1;33m)\u001b[0m\u001b[1;33m\u001b[0m\u001b[1;33m\u001b[0m\u001b[0m\n\u001b[0m\u001b[0;32m    188\u001b[0m         \u001b[1;32mif\u001b[0m \u001b[1;32mnot\u001b[0m \u001b[0misinstance\u001b[0m\u001b[1;33m(\u001b[0m\u001b[0mparam_groups\u001b[0m\u001b[1;33m[\u001b[0m\u001b[1;36m0\u001b[0m\u001b[1;33m]\u001b[0m\u001b[1;33m,\u001b[0m \u001b[0mdict\u001b[0m\u001b[1;33m)\u001b[0m\u001b[1;33m:\u001b[0m\u001b[1;33m\u001b[0m\u001b[1;33m\u001b[0m\u001b[0m\n\u001b[0;32m    189\u001b[0m             \u001b[0mparam_groups\u001b[0m \u001b[1;33m=\u001b[0m \u001b[1;33m[\u001b[0m\u001b[1;33m{\u001b[0m\u001b[1;34m'params'\u001b[0m\u001b[1;33m:\u001b[0m \u001b[0mparam_groups\u001b[0m\u001b[1;33m}\u001b[0m\u001b[1;33m]\u001b[0m\u001b[1;33m\u001b[0m\u001b[1;33m\u001b[0m\u001b[0m\n",
      "\u001b[1;31mValueError\u001b[0m: optimizer got an empty parameter list"
     ]
    }
   ],
   "source": [
    "from autoencoder_starter import Autoencoder_Trainer\n",
    "\n",
    "LEARNING_RATE = 1e-3\n",
    "EPOCH_NUMBER= 10 # the number of epochs and learning rate can be tuned.\n",
    "\n",
    "autoencoder = Autoencoder(dim_latent_representation=2)\n",
    "trainer = Autoencoder_Trainer(autoencoder_model=autoencoder,learning_rate=LEARNING_RATE,path_prefix=path_prefix)\n",
    "\n",
    "try:\n",
    "    for epoch in range(1, EPOCH_NUMBER + 1):\n",
    "        trainer.train(epoch)\n",
    "        trainer.validate(epoch)\n",
    "except (KeyboardInterrupt, SystemExit):\n",
    "        print(\"Manual Interruption\")"
   ]
  },
  {
   "cell_type": "markdown",
   "metadata": {
    "id": "1xZdZKnc0j1P"
   },
   "source": [
    "If in the above cell, you find that the download of the dataset is unsuccessful because the server is down, you can also download the data from Canvas and put the data in the same directory of this notebook and `autoencoder_starter.py`. If you are running this notebook on Google Colab, you can create a directory called `CMPT 726-419 Spring 2021 A2` in your Google Drive and put the data directory you downloaded from Canvas inside. Then if you haven't mounted your Google Drive earlier using the block of code above, mount Google Drive by executing the following block of code."
   ]
  },
  {
   "cell_type": "code",
   "execution_count": null,
   "metadata": {
    "id": "-dCCuz2mbAo0"
   },
   "outputs": [],
   "source": [
    "from google.colab import drive\n",
    "drive.mount('/content/gdrive')\n",
    "path_prefix = \"/content/gdrive/MyDrive/CMPT 726-419 Spring 2021 A2\""
   ]
  },
  {
   "cell_type": "markdown",
   "metadata": {
    "id": "X1M7mOuREg1z"
   },
   "source": [
    "## Visualizing 2D Bottleneck Feature Representations\n",
    "\n",
    "We can visualize the 2D bottleneck representations of data points and their ground truth class labels with a scatter plot.\n",
    "\n",
    "The `scatter_plot` function takes the following arguments:\n",
    "* latent_presentations - (N, dimension_latent_representation) numpy array\n",
    "* labels - (N, ) numpy array: the labels of the ground truth classes"
   ]
  },
  {
   "cell_type": "code",
   "execution_count": null,
   "metadata": {
    "ExecuteTime": {
     "start_time": "2021-03-11T21:12:57.723Z"
    },
    "id": "0itXRhM8D2MB"
   },
   "outputs": [],
   "source": [
    "with torch.no_grad():\n",
    "    model = trainer.model\n",
    "    model.eval()\n",
    "    z=[];label=[]\n",
    "    for x,y in trainer.val_loader:\n",
    "\n",
    "        z_ = model.encoder(x.to(trainer.device))\n",
    "        z += z_.cpu().tolist()\n",
    "        label += y.cpu().tolist()\n",
    "    z = np.asarray(z)\n",
    "    label = np.asarray(label)\n",
    "\n",
    "from autoencoder_starter import scatter_plot\n",
    "scatter_plot(latent_representations=z,labels=label)"
   ]
  },
  {
   "cell_type": "markdown",
   "metadata": {
    "id": "iMzjgvmWujFp"
   },
   "source": [
    "## Generating Images by Sampling Bottleneck Features\n",
    "\n",
    "So here we can generate new images by sampling bottleneck features, and use the decoder to generate images. \n",
    "\n",
    "The code below provides an example of how to generate images by sampling bottleneck features. \n",
    "\n",
    "The `display_images_in_a_row` takes the following arguments:\n",
    "* images: (N,28,28): N images of 28*28 as a numpy array\n",
    "* file_path: file path name for where to store the figure\n",
    "* display: display the image or not\n"
   ]
  },
  {
   "cell_type": "code",
   "execution_count": null,
   "metadata": {
    "ExecuteTime": {
     "start_time": "2021-03-11T21:11:45.425Z"
    },
    "id": "ZPGfWcqusvrG"
   },
   "outputs": [],
   "source": [
    "with torch.no_grad():\n",
    "    samples = torch.randn(7, 2).to(trainer.device)\n",
    "    samples = trainer.model.decoder(samples).cpu()\n",
    "\n",
    "images = samples\n",
    "\n",
    "from autoencoder_starter import display_images_in_a_row\n",
    "display_images_in_a_row(images)"
   ]
  },
  {
   "cell_type": "markdown",
   "metadata": {
    "id": "vkQ7IZXNEexN"
   },
   "source": [
    "## Reconstructing Images\n",
    "\n",
    "We can first retrieve the validation set and then pick 64 images (the first 64 images, though you can do it randomly).\n",
    "\n",
    "We use the autoencoder to reconstruct the images and visualize them below."
   ]
  },
  {
   "cell_type": "code",
   "execution_count": null,
   "metadata": {
    "ExecuteTime": {
     "start_time": "2021-03-11T21:11:45.429Z"
    },
    "id": "6YmbPNYcSStS"
   },
   "outputs": [],
   "source": [
    "images = trainer.get_val_set() # get the entire validation set\n",
    "total_number = 64\n",
    "images = images[:total_number]\n",
    "\n",
    "from autoencoder_starter import display_images_in_a_row\n",
    "print(\"Original images\")\n",
    "display_images_in_a_row(images.cpu())"
   ]
  },
  {
   "cell_type": "code",
   "execution_count": null,
   "metadata": {
    "id": "J_0iajk9GQL7"
   },
   "outputs": [],
   "source": [
    "with torch.no_grad():\n",
    "    images = images.to(trainer.device)\n",
    "    reconstructed = trainer.model(images).cpu()\n",
    "print(\"Reconstructed images\")\n",
    "display_images_in_a_row(reconstructed)"
   ]
  }
 ],
 "metadata": {
  "colab": {
   "collapsed_sections": [],
   "name": "Autoencoder_sample.ipynb",
   "provenance": []
  },
  "kernelspec": {
   "display_name": "Python 3 (ipykernel)",
   "language": "python",
   "name": "python3"
  },
  "language_info": {
   "codemirror_mode": {
    "name": "ipython",
    "version": 3
   },
   "file_extension": ".py",
   "mimetype": "text/x-python",
   "name": "python",
   "nbconvert_exporter": "python",
   "pygments_lexer": "ipython3",
   "version": "3.9.13"
  },
  "nteract": {
   "version": "0.28.0"
  }
 },
 "nbformat": 4,
 "nbformat_minor": 1
}
